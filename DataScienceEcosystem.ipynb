{
 "cells": [
  {
   "cell_type": "markdown",
   "id": "3ba22cdd-d200-47a4-bc54-b59ebb3cdd54",
   "metadata": {},
   "source": [
    "# Data Science Tools and Ecosystem"
   ]
  },
  {
   "cell_type": "markdown",
   "id": "7ea3bd3a-d477-47a5-a99a-f9f7b21ab7b3",
   "metadata": {},
   "source": [
    "In this notebook, Data Science Tools and Ecosystem are summarized."
   ]
  },
  {
   "cell_type": "markdown",
   "id": "86ec70f5-4073-4c52-acae-f5d2af3f3b15",
   "metadata": {},
   "source": [
    "**Objectives:**\n",
    "\n",
    "* Some of the popular languages that Data Scientists use \n",
    "* Some of the commonly used libraries used by Data Scientists\n",
    "* Data Science Tools \n",
    "* A few examples of evaluating arithmetic expressions in Python"
   ]
  },
  {
   "cell_type": "markdown",
   "id": "17a92190-346d-455b-aba0-60147d7d2bb7",
   "metadata": {},
   "source": [
    "Some of the popular languages that Data Scientists use are:\n",
    "1. Python\n",
    "2. R\n",
    "3. SQL"
   ]
  },
  {
   "cell_type": "markdown",
   "id": "c7e47962-118b-40f3-8b45-30ebfe19fd3a",
   "metadata": {},
   "source": [
    "Some of the commonly used libraries used by Data Scientists include:\n",
    "1. Python-Libraries: \n",
    "* Scientific Computing Libraries in Python (Pandas, NumPy)\n",
    "* Visualization Libraries in Python (Matplotlib, Seaborn)\n",
    "* High-Level Machine Learning and Deep Learning Libraries (Scikit-learn, Keras, TensorFlow, PyTorch)\n",
    "2. Scala-Libraries:\n",
    "* Vegas\n",
    "* Big DL\n",
    "3. R-Libraries:\n",
    "* Ggplot2"
   ]
  },
  {
   "cell_type": "markdown",
   "id": "bd56261a-de83-455f-bf96-65835f565e91",
   "metadata": {},
   "source": [
    "| Data Science Tools |\n",
    "| ------------------ |\n",
    "| MySQL              |\n",
    "| Spark SQL          |\n",
    "| PredictionIO       |"
   ]
  },
  {
   "cell_type": "markdown",
   "id": "735b6ff1-ef3a-4fc4-b9ee-0044dcd3c5b1",
   "metadata": {},
   "source": [
    "### Below are a few examples of evaluating arithmetic expressions in Python"
   ]
  },
  {
   "cell_type": "code",
   "execution_count": 10,
   "id": "e398d3a2-1afc-4fa8-85a3-912aa6974f73",
   "metadata": {},
   "outputs": [
    {
     "data": {
      "text/plain": [
       "17"
      ]
     },
     "execution_count": 10,
     "metadata": {},
     "output_type": "execute_result"
    }
   ],
   "source": [
    "(3*4)+5\n",
    "## This a simple arithmetic expression to mutiply then add integers"
   ]
  },
  {
   "cell_type": "code",
   "execution_count": 9,
   "id": "d4f1c624-587c-4da4-b999-407894e36f34",
   "metadata": {},
   "outputs": [
    {
     "data": {
      "text/plain": [
       "3.3333333333333335"
      ]
     },
     "execution_count": 9,
     "metadata": {},
     "output_type": "execute_result"
    }
   ],
   "source": [
    "## This will convert 200 minutes to hours by diving by 60\n",
    "200/60"
   ]
  },
  {
   "cell_type": "markdown",
   "id": "5fc3cc5f-776c-446c-994c-646bea7a1628",
   "metadata": {},
   "source": [
    "## Author\n",
    "\\\n",
    "Elena Aliseychik"
   ]
  },
  {
   "cell_type": "code",
   "execution_count": null,
   "id": "98b7d2b5-7d8d-4a6d-a986-9d035eb8d118",
   "metadata": {},
   "outputs": [],
   "source": []
  }
 ],
 "metadata": {
  "kernelspec": {
   "display_name": "Python",
   "language": "python",
   "name": "conda-env-python-py"
  },
  "language_info": {
   "codemirror_mode": {
    "name": "ipython",
    "version": 3
   },
   "file_extension": ".py",
   "mimetype": "text/x-python",
   "name": "python",
   "nbconvert_exporter": "python",
   "pygments_lexer": "ipython3",
   "version": "3.7.12"
  }
 },
 "nbformat": 4,
 "nbformat_minor": 5
}
